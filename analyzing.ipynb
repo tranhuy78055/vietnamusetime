{
 "cells": [
  {
   "cell_type": "code",
   "execution_count": 2,
   "id": "24870c22-85b8-44f2-8fba-abdefea417d5",
   "metadata": {},
   "outputs": [],
   "source": [
    "import pandas as pd\n",
    "from time import gmtime, strftime\n",
    "from d3blocks import D3Blocks"
   ]
  },
  {
   "cell_type": "code",
   "execution_count": 8,
   "id": "7fcad9e6-b10b-4654-9d5d-085d51b0bb42",
   "metadata": {},
   "outputs": [],
   "source": [
    "def convert_time(minute):\n",
    "    return strftime(\"%d-%m-%Y %H:%M:%S\", gmtime(int(minute) * 60))\n"
   ]
  },
  {
   "cell_type": "code",
   "execution_count": 4,
   "id": "cc2fd159-7b1b-4444-83a5-2dc8f8f3576e",
   "metadata": {},
   "outputs": [],
   "source": [
    "def get_activity(code):\n",
    "    code = int(code)\n",
    "    if code in [101, 102, 199, 201, 202, 299, 301, 302, 399, 401, 402, 499, 502]:\n",
    "        return \"Work\"\n",
    "    elif code in [198, 298, 298, 498, 598, 698, 798, 898, 998, 1098, 1198, 1298, 1398, 1498, 1598]:\n",
    "        return \"Travelling\"\n",
    "    elif code in [501]:\n",
    "        return \"Sell food\"\n",
    "    elif code in [504, 505, 506, 507, 508]:\n",
    "        return \"Provide services\"\n",
    "    elif code in [601]:\n",
    "        return \"Housework\"\n",
    "    elif code in [602]:\n",
    "        return \"Shopping\"\n",
    "    elif code in [701, 702]:\n",
    "        return \"Caring\"\n",
    "    elif code in [901, 902, 903]:\n",
    "        return \"Education\"\n",
    "    elif code in [1201, 1202, 1203, 1299]:\n",
    "        return \"Entertainment\"\n",
    "    elif code in [1301, 1302, 1399]:\n",
    "        return \"Sport\"\n",
    "    elif code == 1402:\n",
    "        return \"TV/Youtube\"\n",
    "    elif code == 1404:\n",
    "        return \"Surf web\"\n",
    "    elif code == 1501:\n",
    "        return \"Sleeping\"\n",
    "    elif code == 1502:\n",
    "        return \"Eating\"\n",
    "    elif code == 1503:\n",
    "        return \"Personal hygiene\"\n",
    "    elif code == 1506:\n",
    "        return \"Relaxing\"\n",
    "    else:\n",
    "        return \"Others\""
   ]
  },
  {
   "cell_type": "code",
   "execution_count": 5,
   "id": "8955591d-5ee8-4e4c-9afd-d32f0c3d119a",
   "metadata": {},
   "outputs": [],
   "source": [
    "data = pd.read_csv(\"4_diary_main.csv\", usecols=[\"ID\", \"BEGIN\", \"Q401\"],\n",
    "                   encoding='latin-1',\n",
    "                   converters={\"Q401\": get_activity, \"BEGIN\": convert_time})"
   ]
  },
  {
   "cell_type": "code",
   "execution_count": 7,
   "id": "22ca15ef-d772-4e48-bc74-4c227a7e47ca",
   "metadata": {},
   "outputs": [
    {
     "data": {
      "text/html": [
       "<div>\n",
       "<style scoped>\n",
       "    .dataframe tbody tr th:only-of-type {\n",
       "        vertical-align: middle;\n",
       "    }\n",
       "\n",
       "    .dataframe tbody tr th {\n",
       "        vertical-align: top;\n",
       "    }\n",
       "\n",
       "    .dataframe thead th {\n",
       "        text-align: right;\n",
       "    }\n",
       "</style>\n",
       "<table border=\"1\" class=\"dataframe\">\n",
       "  <thead>\n",
       "    <tr style=\"text-align: right;\">\n",
       "      <th></th>\n",
       "      <th>ID</th>\n",
       "      <th>BEGIN</th>\n",
       "      <th>Q401</th>\n",
       "    </tr>\n",
       "  </thead>\n",
       "  <tbody>\n",
       "    <tr>\n",
       "      <th>0</th>\n",
       "      <td>10010000600801</td>\n",
       "      <td>01-01-1970 22:30:00</td>\n",
       "      <td>Personal hygiene</td>\n",
       "    </tr>\n",
       "    <tr>\n",
       "      <th>1</th>\n",
       "      <td>10010000600801</td>\n",
       "      <td>01-01-1970 12:30:00</td>\n",
       "      <td>Work</td>\n",
       "    </tr>\n",
       "    <tr>\n",
       "      <th>2</th>\n",
       "      <td>10010000600801</td>\n",
       "      <td>01-01-1970 05:40:00</td>\n",
       "      <td>Travelling</td>\n",
       "    </tr>\n",
       "    <tr>\n",
       "      <th>3</th>\n",
       "      <td>10010000600801</td>\n",
       "      <td>01-01-1970 11:50:00</td>\n",
       "      <td>Eating</td>\n",
       "    </tr>\n",
       "    <tr>\n",
       "      <th>4</th>\n",
       "      <td>10010000600801</td>\n",
       "      <td>01-01-1970 22:50:00</td>\n",
       "      <td>Sleeping</td>\n",
       "    </tr>\n",
       "    <tr>\n",
       "      <th>5</th>\n",
       "      <td>10010000600801</td>\n",
       "      <td>01-01-1970 21:00:00</td>\n",
       "      <td>Others</td>\n",
       "    </tr>\n",
       "    <tr>\n",
       "      <th>6</th>\n",
       "      <td>10010000600801</td>\n",
       "      <td>01-01-1970 15:00:00</td>\n",
       "      <td>Travelling</td>\n",
       "    </tr>\n",
       "    <tr>\n",
       "      <th>7</th>\n",
       "      <td>10010000600801</td>\n",
       "      <td>01-01-1970 18:00:00</td>\n",
       "      <td>Housework</td>\n",
       "    </tr>\n",
       "    <tr>\n",
       "      <th>8</th>\n",
       "      <td>10010000600801</td>\n",
       "      <td>01-01-1970 05:00:00</td>\n",
       "      <td>Personal hygiene</td>\n",
       "    </tr>\n",
       "    <tr>\n",
       "      <th>9</th>\n",
       "      <td>10010000600801</td>\n",
       "      <td>01-01-1970 15:20:00</td>\n",
       "      <td>Others</td>\n",
       "    </tr>\n",
       "  </tbody>\n",
       "</table>\n",
       "</div>"
      ],
      "text/plain": [
       "               ID                BEGIN              Q401\n",
       "0  10010000600801  01-01-1970 22:30:00  Personal hygiene\n",
       "1  10010000600801  01-01-1970 12:30:00              Work\n",
       "2  10010000600801  01-01-1970 05:40:00        Travelling\n",
       "3  10010000600801  01-01-1970 11:50:00            Eating\n",
       "4  10010000600801  01-01-1970 22:50:00          Sleeping\n",
       "5  10010000600801  01-01-1970 21:00:00            Others\n",
       "6  10010000600801  01-01-1970 15:00:00        Travelling\n",
       "7  10010000600801  01-01-1970 18:00:00         Housework\n",
       "8  10010000600801  01-01-1970 05:00:00  Personal hygiene\n",
       "9  10010000600801  01-01-1970 15:20:00            Others"
      ]
     },
     "execution_count": 7,
     "metadata": {},
     "output_type": "execute_result"
    }
   ],
   "source": [
    "data.head(10)"
   ]
  },
  {
   "cell_type": "code",
   "execution_count": 11,
   "id": "3b22503e-167d-44ef-8043-f8b47fb9da7a",
   "metadata": {},
   "outputs": [
    {
     "data": {
      "text/html": [
       "<div>\n",
       "<style scoped>\n",
       "    .dataframe tbody tr th:only-of-type {\n",
       "        vertical-align: middle;\n",
       "    }\n",
       "\n",
       "    .dataframe tbody tr th {\n",
       "        vertical-align: top;\n",
       "    }\n",
       "\n",
       "    .dataframe thead th {\n",
       "        text-align: right;\n",
       "    }\n",
       "</style>\n",
       "<table border=\"1\" class=\"dataframe\">\n",
       "  <thead>\n",
       "    <tr style=\"text-align: right;\">\n",
       "      <th></th>\n",
       "      <th>ID</th>\n",
       "      <th>BEGIN</th>\n",
       "      <th>Q401</th>\n",
       "    </tr>\n",
       "  </thead>\n",
       "  <tbody>\n",
       "    <tr>\n",
       "      <th>10</th>\n",
       "      <td>10010000600801</td>\n",
       "      <td>01-01-1970 04:00:00</td>\n",
       "      <td>Sleeping</td>\n",
       "    </tr>\n",
       "    <tr>\n",
       "      <th>8</th>\n",
       "      <td>10010000600801</td>\n",
       "      <td>01-01-1970 05:00:00</td>\n",
       "      <td>Personal hygiene</td>\n",
       "    </tr>\n",
       "    <tr>\n",
       "      <th>18</th>\n",
       "      <td>10010000600801</td>\n",
       "      <td>01-01-1970 05:20:00</td>\n",
       "      <td>Eating</td>\n",
       "    </tr>\n",
       "    <tr>\n",
       "      <th>2</th>\n",
       "      <td>10010000600801</td>\n",
       "      <td>01-01-1970 05:40:00</td>\n",
       "      <td>Travelling</td>\n",
       "    </tr>\n",
       "    <tr>\n",
       "      <th>11</th>\n",
       "      <td>10010000600801</td>\n",
       "      <td>01-01-1970 06:00:00</td>\n",
       "      <td>Work</td>\n",
       "    </tr>\n",
       "    <tr>\n",
       "      <th>...</th>\n",
       "      <td>...</td>\n",
       "      <td>...</td>\n",
       "      <td>...</td>\n",
       "    </tr>\n",
       "    <tr>\n",
       "      <th>118924</th>\n",
       "      <td>959613192702040</td>\n",
       "      <td>01-01-1970 18:00:00</td>\n",
       "      <td>Travelling</td>\n",
       "    </tr>\n",
       "    <tr>\n",
       "      <th>118925</th>\n",
       "      <td>959613192702040</td>\n",
       "      <td>01-01-1970 18:10:00</td>\n",
       "      <td>Personal hygiene</td>\n",
       "    </tr>\n",
       "    <tr>\n",
       "      <th>118932</th>\n",
       "      <td>959613192702040</td>\n",
       "      <td>01-01-1970 18:30:00</td>\n",
       "      <td>Housework</td>\n",
       "    </tr>\n",
       "    <tr>\n",
       "      <th>118923</th>\n",
       "      <td>959613192702040</td>\n",
       "      <td>01-01-1970 19:00:00</td>\n",
       "      <td>TV/Youtube</td>\n",
       "    </tr>\n",
       "    <tr>\n",
       "      <th>118922</th>\n",
       "      <td>959613192702040</td>\n",
       "      <td>01-01-1970 20:00:00</td>\n",
       "      <td>Sleeping</td>\n",
       "    </tr>\n",
       "  </tbody>\n",
       "</table>\n",
       "<p>118933 rows × 3 columns</p>\n",
       "</div>"
      ],
      "text/plain": [
       "                     ID                BEGIN              Q401\n",
       "10       10010000600801  01-01-1970 04:00:00          Sleeping\n",
       "8        10010000600801  01-01-1970 05:00:00  Personal hygiene\n",
       "18       10010000600801  01-01-1970 05:20:00            Eating\n",
       "2        10010000600801  01-01-1970 05:40:00        Travelling\n",
       "11       10010000600801  01-01-1970 06:00:00              Work\n",
       "...                 ...                  ...               ...\n",
       "118924  959613192702040  01-01-1970 18:00:00        Travelling\n",
       "118925  959613192702040  01-01-1970 18:10:00  Personal hygiene\n",
       "118932  959613192702040  01-01-1970 18:30:00         Housework\n",
       "118923  959613192702040  01-01-1970 19:00:00        TV/Youtube\n",
       "118922  959613192702040  01-01-1970 20:00:00          Sleeping\n",
       "\n",
       "[118933 rows x 3 columns]"
      ]
     },
     "execution_count": 11,
     "metadata": {},
     "output_type": "execute_result"
    }
   ],
   "source": [
    "data.sort_values([\"ID\", \"BEGIN\"])"
   ]
  },
  {
   "cell_type": "code",
   "execution_count": 13,
   "id": "d7a7b894-f0cd-446a-b01e-7a3a4555683c",
   "metadata": {},
   "outputs": [],
   "source": [
    "data=data.rename(columns={\"ID\":\"sample_id\", \"BEGIN\": \"datetime\", \"Q401\": \"activity\"})"
   ]
  },
  {
   "cell_type": "code",
   "execution_count": 14,
   "id": "8a43077b-37fe-4c49-8582-dba8de285573",
   "metadata": {},
   "outputs": [],
   "source": [
    "data= data.iloc[:int(len(data)/4)]"
   ]
  },
  {
   "cell_type": "code",
   "execution_count": 15,
   "id": "f3b320bf-02cb-47d5-86ca-72deebd83ca9",
   "metadata": {},
   "outputs": [
    {
     "name": "stderr",
     "output_type": "stream",
     "text": [
      "[d3blocks] >INFO> Cleaning edge_properties and config parameters..\n"
     ]
    }
   ],
   "source": [
    "d3= D3Blocks()"
   ]
  },
  {
   "cell_type": "code",
   "execution_count": 24,
   "id": "4cfad810-4da4-44f7-9c8d-75566070537d",
   "metadata": {},
   "outputs": [
    {
     "name": "stderr",
     "output_type": "stream",
     "text": [
      "[d3blocks] >INFO> Cleaning edge_properties and config parameters..\n",
      "[d3blocks] >INFO> Initializing [Movingbubbles]\n",
      "[d3blocks] >INFO> filepath is set to [/home/huypro/DataAnalytics/Vietnam-time-use-visualization/moving_point.html]\n",
      "[d3blocks] >INFO> Set the center state at: [Travelling]\n",
      "[d3blocks] >INFO> Convert to DataFrame.\n",
      "[d3blocks] >INFO> Node properties are set.\n",
      "[d3blocks] >INFO> Standardizing input dataframe using method: [samplewise].\n",
      "[d3blocks] >INFO> Set datetime format to [%d-%m-%Y %H:%M:%S]\n",
      "[d3blocks] >INFO> Standardize method: [samplewise]\n",
      "100%|██████████████████████████████████████████████████████████████████████████████████████████████████████████████████████████████████████████████████████████████████| 1364/1364 [00:05<00:00, 232.17it/s]\n",
      "[d3blocks] >INFO> Set all nodes to size: 2\n",
      "[clustimage] >WARNING> Colormap [Set1] can not create [1364] unique colors! Available unique colors: [9].\n",
      "[d3blocks] >WARNING> Colormap [Set1] can not create [1364] unique colors! Available unique colors: [9].\n",
      "[d3blocks] >INFO> Edge properties are set.\n",
      "[d3blocks] >INFO> Open browser: /home/huypro/DataAnalytics/Vietnam-time-use-visualization/moving_point.html\n"
     ]
    }
   ],
   "source": [
    "d3.movingbubbles(data, datetime=\"datetime\", sample_id=\"sample_id\", state=\"activity\", filepath=\"./moving_point.html\",\n",
    "                 note=\"How Vietnamese people spend their time\", cmap=\"hsv\", center=\"Travelling\", figsize=(780, 800), size=2)"
   ]
  },
  {
   "cell_type": "code",
   "execution_count": null,
   "id": "270e4781-2209-4307-becc-90ef76fe15a0",
   "metadata": {},
   "outputs": [],
   "source": []
  },
  {
   "cell_type": "code",
   "execution_count": null,
   "id": "7d4b8e79-c82a-4ba2-8b7d-4c662211bcbd",
   "metadata": {},
   "outputs": [],
   "source": []
  }
 ],
 "metadata": {
  "kernelspec": {
   "display_name": "Python 3 (ipykernel)",
   "language": "python",
   "name": "python3"
  },
  "language_info": {
   "codemirror_mode": {
    "name": "ipython",
    "version": 3
   },
   "file_extension": ".py",
   "mimetype": "text/x-python",
   "name": "python",
   "nbconvert_exporter": "python",
   "pygments_lexer": "ipython3",
   "version": "3.10.12"
  }
 },
 "nbformat": 4,
 "nbformat_minor": 5
}
